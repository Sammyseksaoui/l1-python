{
 "cells": [
  {
   "cell_type": "code",
   "execution_count": 72,
   "metadata": {},
   "outputs": [
    {
     "name": "stdout",
     "output_type": "stream",
     "text": [
      "11.0\n",
      "['Tata', '15', '5', '13']\n",
      "12.333333333333334\n",
      "['TÃ©tÃ©', '10', '8', '19']\n",
      "6.333333333333333\n",
      "['Titi', '3', '9', '7']\n",
      "14.333333333333334\n",
      "['Toto', '15', '17', '11']\n",
      "10.333333333333334\n",
      "['Tutu', '9', '10', '12']\n"
     ]
    }
   ],
   "source": [
    "def moyenne (list):\n",
    "    \"\"\"retourne la moyenne des 3 notes contenues dans la liste à partir de l'indice 1\"\"\"\n",
    "    return (int(liste[1])+int(liste [2])+ int (liste [3]))/ 3    \n",
    "\n",
    "\n",
    "\n",
    "f_in= open (\"notes.txt\",\"r\")\n",
    "f_out = open (\"moyennes.txt\",\"w\")\n",
    "for ligne in f_in : \n",
    "    liste = ligne.split ()\n",
    "    moy = moyenne (liste)\n",
    "    f_out.write (ligne [: -1]+\" \"+ +str(moy) + \"\\n\")\n",
    "    print (moy)\n",
    "    print (liste)\n",
    "    \n",
    "f_in.close ()\n",
    "f_out.close ()"
   ]
  },
  {
   "cell_type": "code",
   "execution_count": 76,
   "metadata": {},
   "outputs": [
    {
     "name": "stdout",
     "output_type": "stream",
     "text": [
      "9\n"
     ]
    }
   ],
   "source": [
    "def nb_lignes (nom_fichier) :\n",
    "    for ligne in nom_fichier :\n",
    "        liste = nom_fichier\n",
    "\n",
    "    return len (liste)\n",
    "f_in = open (\"words.txt\",\"r\")\n",
    "nbr = nb_lignes (\"words.txt\")\n",
    "print (nbr)\n",
    "\n",
    "f_in.close( )\n"
   ]
  }
 ],
 "metadata": {
  "interpreter": {
   "hash": "8ba99ed0087549d3b0c669022329445ab5524fd701049a12c27b8e110953c4f2"
  },
  "kernelspec": {
   "display_name": "Python 3.8.8 64-bit ('base': conda)",
   "language": "python",
   "name": "python3"
  },
  "language_info": {
   "codemirror_mode": {
    "name": "ipython",
    "version": 3
   },
   "file_extension": ".py",
   "mimetype": "text/x-python",
   "name": "python",
   "nbconvert_exporter": "python",
   "pygments_lexer": "ipython3",
   "version": "3.8.8"
  },
  "orig_nbformat": 4
 },
 "nbformat": 4,
 "nbformat_minor": 2
}
